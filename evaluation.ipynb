{
 "cells": [
  {
   "cell_type": "code",
   "execution_count": 50,
   "id": "initial_id",
   "metadata": {
    "collapsed": true,
    "ExecuteTime": {
     "end_time": "2024-05-20T12:41:02.949692Z",
     "start_time": "2024-05-20T12:41:01.653194Z"
    }
   },
   "outputs": [],
   "source": [
    "import pandas as pd\n",
    "import matplotlib.pyplot as plt\n",
    "import numpy as np\n",
    "from scipy.stats import ttest_rel"
   ]
  },
  {
   "cell_type": "code",
   "outputs": [
    {
     "data": {
      "text/plain": "     Unnamed: 0   ID version   timelog    task  response\n0           NaN  NaN     NaN       NaN     NaN       NaN\n1           0.0    1  speech  0.837753  object      soap\n2           1.0    1  speech  0.737525  object      ball\n3           2.0    1  speech  0.710274   color     green\n4           3.0    1  speech  0.768633  object     tongs\n..          ...  ...     ...       ...     ...       ...\n716        16.0  108    keys  0.750609  object     knife\n717        17.0  108    keys  0.753290   color      navy\n718        18.0  108    keys  0.740968  object  ornament\n719        19.0  108    keys  0.750254  object    candle\n720        20.0  108    keys  0.797766   color       red\n\n[721 rows x 6 columns]",
      "text/html": "<div>\n<style scoped>\n    .dataframe tbody tr th:only-of-type {\n        vertical-align: middle;\n    }\n\n    .dataframe tbody tr th {\n        vertical-align: top;\n    }\n\n    .dataframe thead th {\n        text-align: right;\n    }\n</style>\n<table border=\"1\" class=\"dataframe\">\n  <thead>\n    <tr style=\"text-align: right;\">\n      <th></th>\n      <th>Unnamed: 0</th>\n      <th>ID</th>\n      <th>version</th>\n      <th>timelog</th>\n      <th>task</th>\n      <th>response</th>\n    </tr>\n  </thead>\n  <tbody>\n    <tr>\n      <th>0</th>\n      <td>NaN</td>\n      <td>NaN</td>\n      <td>NaN</td>\n      <td>NaN</td>\n      <td>NaN</td>\n      <td>NaN</td>\n    </tr>\n    <tr>\n      <th>1</th>\n      <td>0.0</td>\n      <td>1</td>\n      <td>speech</td>\n      <td>0.837753</td>\n      <td>object</td>\n      <td>soap</td>\n    </tr>\n    <tr>\n      <th>2</th>\n      <td>1.0</td>\n      <td>1</td>\n      <td>speech</td>\n      <td>0.737525</td>\n      <td>object</td>\n      <td>ball</td>\n    </tr>\n    <tr>\n      <th>3</th>\n      <td>2.0</td>\n      <td>1</td>\n      <td>speech</td>\n      <td>0.710274</td>\n      <td>color</td>\n      <td>green</td>\n    </tr>\n    <tr>\n      <th>4</th>\n      <td>3.0</td>\n      <td>1</td>\n      <td>speech</td>\n      <td>0.768633</td>\n      <td>object</td>\n      <td>tongs</td>\n    </tr>\n    <tr>\n      <th>...</th>\n      <td>...</td>\n      <td>...</td>\n      <td>...</td>\n      <td>...</td>\n      <td>...</td>\n      <td>...</td>\n    </tr>\n    <tr>\n      <th>716</th>\n      <td>16.0</td>\n      <td>108</td>\n      <td>keys</td>\n      <td>0.750609</td>\n      <td>object</td>\n      <td>knife</td>\n    </tr>\n    <tr>\n      <th>717</th>\n      <td>17.0</td>\n      <td>108</td>\n      <td>keys</td>\n      <td>0.753290</td>\n      <td>color</td>\n      <td>navy</td>\n    </tr>\n    <tr>\n      <th>718</th>\n      <td>18.0</td>\n      <td>108</td>\n      <td>keys</td>\n      <td>0.740968</td>\n      <td>object</td>\n      <td>ornament</td>\n    </tr>\n    <tr>\n      <th>719</th>\n      <td>19.0</td>\n      <td>108</td>\n      <td>keys</td>\n      <td>0.750254</td>\n      <td>object</td>\n      <td>candle</td>\n    </tr>\n    <tr>\n      <th>720</th>\n      <td>20.0</td>\n      <td>108</td>\n      <td>keys</td>\n      <td>0.797766</td>\n      <td>color</td>\n      <td>red</td>\n    </tr>\n  </tbody>\n</table>\n<p>721 rows × 6 columns</p>\n</div>"
     },
     "metadata": {},
     "output_type": "display_data"
    },
    {
     "data": {
      "text/plain": "721"
     },
     "execution_count": 16,
     "metadata": {},
     "output_type": "execute_result"
    }
   ],
   "source": [
    "df = pd.read_csv(r\"utils/main_evaluation.csv\")\n",
    "display(df)\n",
    "len(df)"
   ],
   "metadata": {
    "collapsed": false,
    "ExecuteTime": {
     "end_time": "2024-05-20T12:10:19.932095Z",
     "start_time": "2024-05-20T12:10:19.909824Z"
    }
   },
   "id": "86ae4a1d55da9eb2",
   "execution_count": 16
  },
  {
   "cell_type": "code",
   "outputs": [
    {
     "data": {
      "text/plain": "570"
     },
     "execution_count": 17,
     "metadata": {},
     "output_type": "execute_result"
    }
   ],
   "source": [
    "df_noNA = df.dropna()\n",
    "len(df_noNA)"
   ],
   "metadata": {
    "collapsed": false,
    "ExecuteTime": {
     "end_time": "2024-05-20T12:10:34.187366Z",
     "start_time": "2024-05-20T12:10:34.177458Z"
    }
   },
   "id": "bcd205d8b63166ec",
   "execution_count": 17
  },
  {
   "cell_type": "code",
   "outputs": [
    {
     "data": {
      "text/plain": "array(['100', '101', '102', '103', '104', '105', '106', '107', '108'],\n      dtype=object)"
     },
     "execution_count": 34,
     "metadata": {},
     "output_type": "execute_result"
    }
   ],
   "source": [
    "df['ID'].unique()\n",
    "values_to_drop = ['1', 't']\n",
    "df_cleaned = df[~df['ID'].isin(values_to_drop) & df['ID'].notna()]\n",
    "df_cleaned['ID'].unique()"
   ],
   "metadata": {
    "collapsed": false,
    "ExecuteTime": {
     "end_time": "2024-05-20T12:20:56.009644Z",
     "start_time": "2024-05-20T12:20:55.988061Z"
    }
   },
   "id": "47a63580d46000d5",
   "execution_count": 34
  },
  {
   "cell_type": "code",
   "outputs": [
    {
     "name": "stdout",
     "output_type": "stream",
     "text": [
      "     ID version      mean       std  count       min       max\n",
      "0   100    keys  0.727628  0.016532     13  0.697520  0.755463\n",
      "1   100  speech  0.727107  0.035270     11  0.690824  0.820431\n",
      "2   101    keys  0.724063  0.038424     91  0.564369  0.881641\n",
      "3   101  speech  0.745312  0.038117     17  0.701044  0.822817\n",
      "4   102    keys  0.577235  0.010923      7  0.560169  0.588492\n",
      "5   102  speech  0.564131  0.025743     11  0.545748  0.634954\n",
      "6   103    keys  0.596968  0.013467      7  0.574885  0.616653\n",
      "7   103  speech  0.555854  0.013747     13  0.540614  0.594496\n",
      "8   104    keys  0.580566  0.012246     75  0.549680  0.626289\n",
      "9   104  speech  0.560133  0.010507     10  0.544984  0.581617\n",
      "10  105  speech  0.574436  0.017519     15  0.558785  0.622746\n",
      "11  106    keys  0.728124  0.012837     31  0.694239  0.752559\n",
      "12  106  speech  0.743976  0.042085      6  0.692954  0.808643\n",
      "13  107    keys  0.731660  0.012772     59  0.712404  0.759563\n",
      "14  107  speech  0.745876  0.019273     12  0.710773  0.773196\n",
      "15  108    keys  0.741125  0.018297     13  0.716039  0.774033\n",
      "16  108  speech  0.720639  0.028791     10  0.696229  0.779896\n"
     ]
    }
   ],
   "source": [
    "object = df_cleaned[df_cleaned['task'] == 'object']\n",
    "# Group by 'participant' and 'modality'\n",
    "obj_grouped = object.groupby(['ID', 'version'])\n",
    "\n",
    "# Calculate summary statistics\n",
    "summary_obj = obj_grouped['timelog'].agg(['mean', 'std', 'count', 'min', 'max']).reset_index()\n",
    "\n",
    "# Print the summary\n",
    "print(summary_obj)\n"
   ],
   "metadata": {
    "collapsed": false,
    "ExecuteTime": {
     "end_time": "2024-05-20T12:59:21.657564Z",
     "start_time": "2024-05-20T12:59:21.634856Z"
    }
   },
   "id": "5e1ab841c3241cd2",
   "execution_count": 68
  },
  {
   "cell_type": "code",
   "outputs": [
    {
     "name": "stdout",
     "output_type": "stream",
     "text": [
      "     ID version      mean       std  count       min       max\n",
      "0   100    keys  0.720552  0.026066      7  0.688760  0.757984\n",
      "1   100  speech  0.731820  0.012272      4  0.718284  0.747678\n",
      "2   101    keys  0.694135  0.073772     22  0.592886  0.928758\n",
      "3   101  speech  0.763223  0.018601      3  0.745813  0.782822\n",
      "4   102    keys  0.583135  0.018831     11  0.552498  0.630316\n",
      "5   102  speech  0.556083  0.013970      5  0.543942  0.579374\n",
      "6   103    keys  0.609160  0.075648      5  0.559410  0.743143\n",
      "7   103  speech  0.559915  0.009773      3  0.550276  0.569817\n",
      "8   104    keys  0.586646  0.024005    102  0.555593  0.765453\n",
      "9   104  speech  0.569160  0.033865     10  0.549094  0.663840\n",
      "10  105  speech  0.572074  0.003453      3  0.568106  0.574389\n",
      "11  106    keys  0.730651  0.016333     47  0.702436  0.790392\n",
      "12  106  speech  0.760055  0.029721      4  0.728720  0.800265\n",
      "13  107    keys  0.731952  0.019587     49  0.700723  0.818473\n",
      "14  107  speech  0.751988  0.053258      8  0.714733  0.878280\n",
      "15  108    keys  0.769420  0.043079      8  0.697820  0.848663\n",
      "16  108  speech  0.758292  0.065142      5  0.709047  0.870975\n"
     ]
    }
   ],
   "source": [
    "color = df_cleaned[df_cleaned['task'] == 'color']\n",
    "\n",
    "# Group by 'participant' and 'modality'\n",
    "col_grouped = color.groupby(['ID', 'version'])\n",
    "\n",
    "# Calculate summary statistics\n",
    "summary_col = col_grouped['timelog'].agg(['mean', 'std', 'count', 'min', 'max']).reset_index()\n",
    "\n",
    "# Print the summary\n",
    "print(summary_col)"
   ],
   "metadata": {
    "collapsed": false,
    "ExecuteTime": {
     "end_time": "2024-05-20T13:00:29.925492Z",
     "start_time": "2024-05-20T13:00:29.909773Z"
    }
   },
   "id": "fd5dccc81a804eb3",
   "execution_count": 69
  },
  {
   "cell_type": "code",
   "outputs": [
    {
     "name": "stdout",
     "output_type": "stream",
     "text": [
      "Object - Keys\n",
      "        Unnamed: 0     timelog\n",
      "count  296.000000  296.000000\n",
      "mean    49.783784    0.684072\n",
      "std     37.131565    0.071551\n",
      "min      0.000000    0.549680\n",
      "25%     18.750000    0.588446\n",
      "50%     43.500000    0.721950\n",
      "75%     76.000000    0.733695\n",
      "max    161.000000    0.881641\n",
      "Object - Speech\n",
      "        Unnamed: 0     timelog\n",
      "count  105.000000  105.000000\n",
      "mean     7.904762    0.656558\n",
      "std      5.250501    0.091016\n",
      "min      0.000000    0.540614\n",
      "25%      4.000000    0.561994\n",
      "50%      7.000000    0.696643\n",
      "75%     12.000000    0.733959\n",
      "max     19.000000    0.822817\n",
      "Color - Keys\n",
      "        Unnamed: 0     timelog\n",
      "count  251.000000  251.000000\n",
      "mean    56.326693    0.661254\n",
      "std     45.601720    0.077676\n",
      "min      0.000000    0.552498\n",
      "25%     12.500000    0.583938\n",
      "50%     49.000000    0.700233\n",
      "75%     96.500000    0.727635\n",
      "max    151.000000    0.928758\n",
      "Color - Speech\n",
      "        Unnamed: 0    timelog\n",
      "count   45.000000  45.000000\n",
      "mean     8.622222   0.665167\n",
      "std      5.258279   0.101033\n",
      "min      0.000000   0.543942\n",
      "25%      5.000000   0.559653\n",
      "50%      9.000000   0.714733\n",
      "75%     13.000000   0.742660\n",
      "max     19.000000   0.878280\n"
     ]
    }
   ],
   "source": [
    "obj_keys = object[object['version'] == 'keys']\n",
    "print('Object - Keys\\n', obj_keys.describe())\n",
    "\n",
    "obj_speech = object[object['version'] == 'speech']\n",
    "print('Object - Speech\\n', obj_speech.describe())\n",
    "\n",
    "col_keys = color[color['version'] == 'keys']\n",
    "print('Color - Keys\\n', col_keys.describe())\n",
    "col_speech = color[color['version'] == 'speech']\n",
    "print('Color - Speech\\n', col_speech.describe())\n"
   ],
   "metadata": {
    "collapsed": false,
    "ExecuteTime": {
     "end_time": "2024-05-20T12:56:01.655048Z",
     "start_time": "2024-05-20T12:56:01.617231Z"
    }
   },
   "id": "a8780c74a3c445a2",
   "execution_count": 66
  },
  {
   "cell_type": "code",
   "outputs": [
    {
     "name": "stdout",
     "output_type": "stream",
     "text": [
      "version   ID      keys    speech\n",
      "0        100  0.727628  0.727107\n",
      "1        101  0.724063  0.745312\n",
      "2        102  0.577235  0.564131\n",
      "3        103  0.596968  0.555854\n",
      "4        104  0.580566  0.560133\n",
      "6        106  0.728124  0.743976\n",
      "7        107  0.731660  0.745876\n",
      "8        108  0.741125  0.720639\n",
      "T-statistic: 0.7157352779889427\n",
      "P-value: 0.49732890293819454\n",
      "There is no significant difference between the two conditions.\n"
     ]
    }
   ],
   "source": [
    "# Calculate the average time per participant for each modality\n",
    "average_times_object = object.groupby(['ID', 'version'])['timelog'].mean().reset_index()\n",
    "\n",
    "# Pivot the data to have a column for each modality\n",
    "pivoted_data_object = average_times_object.pivot(index='ID', columns='version', values='timelog').reset_index()\n",
    "pivoted_data_object_noNA = pivoted_data_object.dropna()\n",
    "# Print the results\n",
    "print(pivoted_data_object_noNA)\n",
    "\n",
    "# Perform the repeated measures t-test\n",
    "t_statistic, p_value = ttest_rel(pivoted_data_object_noNA['keys'], pivoted_data_object_noNA['speech'])\n",
    "\n",
    "# Print the results\n",
    "print(f\"T-statistic: {t_statistic}\")\n",
    "print(f\"P-value: {p_value}\")\n",
    "\n",
    "# Interpret the results\n",
    "alpha = 0.05\n",
    "if p_value < alpha:\n",
    "    print(\"There is a significant difference between the two conditions.\")\n",
    "else:\n",
    "    print(\"There is no significant difference between the two conditions.\")\n"
   ],
   "metadata": {
    "collapsed": false,
    "ExecuteTime": {
     "end_time": "2024-05-20T12:52:51.317006Z",
     "start_time": "2024-05-20T12:52:51.294296Z"
    }
   },
   "id": "cfb9396c624e588b",
   "execution_count": 60
  },
  {
   "cell_type": "code",
   "outputs": [
    {
     "name": "stdout",
     "output_type": "stream",
     "text": [
      "version   ID      keys    speech\n",
      "0        100  0.720552  0.731820\n",
      "1        101  0.694135  0.763223\n",
      "2        102  0.583135  0.556083\n",
      "3        103  0.609160  0.559915\n",
      "4        104  0.586646  0.569160\n",
      "6        106  0.730651  0.760055\n",
      "7        107  0.731952  0.751988\n",
      "8        108  0.769420  0.758292\n",
      "T-statistic: -0.23663928446687355\n",
      "P-value: 0.81971222962547\n",
      "There is no significant difference between the two conditions.\n"
     ]
    }
   ],
   "source": [
    "# Calculate the average time per participant for each modality\n",
    "average_times_color = color.groupby(['ID', 'version'])['timelog'].mean().reset_index()\n",
    "\n",
    "# Pivot the data to have a column for each modality\n",
    "pivoted_data_color = average_times_color.pivot(index='ID', columns='version', values='timelog').reset_index()\n",
    "pivoted_data_color_noNA = pivoted_data_color.dropna()\n",
    "# Print the results\n",
    "print(pivoted_data_color_noNA)\n",
    "\n",
    "# Perform the repeated measures t-test\n",
    "t_statistic, p_value = ttest_rel(pivoted_data_color_noNA['keys'], pivoted_data_color_noNA['speech'])\n",
    "\n",
    "# Print the results\n",
    "print(f\"T-statistic: {t_statistic}\")\n",
    "print(f\"P-value: {p_value}\")\n",
    "\n",
    "# Interpret the results\n",
    "alpha = 0.05\n",
    "if p_value < alpha:\n",
    "    print(\"There is a significant difference between the two conditions.\")\n",
    "else:\n",
    "    print(\"There is no significant difference between the two conditions.\")\n"
   ],
   "metadata": {
    "collapsed": false,
    "ExecuteTime": {
     "end_time": "2024-05-20T12:53:03.891940Z",
     "start_time": "2024-05-20T12:53:03.872038Z"
    }
   },
   "id": "8f611da21ccb4bb8",
   "execution_count": 61
  }
 ],
 "metadata": {
  "kernelspec": {
   "display_name": "Python 3",
   "language": "python",
   "name": "python3"
  },
  "language_info": {
   "codemirror_mode": {
    "name": "ipython",
    "version": 2
   },
   "file_extension": ".py",
   "mimetype": "text/x-python",
   "name": "python",
   "nbconvert_exporter": "python",
   "pygments_lexer": "ipython2",
   "version": "2.7.6"
  }
 },
 "nbformat": 4,
 "nbformat_minor": 5
}
