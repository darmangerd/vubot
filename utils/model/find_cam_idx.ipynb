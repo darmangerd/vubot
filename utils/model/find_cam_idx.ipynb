{
 "cells": [
  {
   "cell_type": "code",
   "execution_count": 1,
   "id": "initial_id",
   "metadata": {
    "collapsed": true,
    "ExecuteTime": {
     "end_time": "2024-05-13T18:35:49.221711Z",
     "start_time": "2024-05-13T18:35:43.809032Z"
    }
   },
   "outputs": [
    {
     "name": "stdout",
     "output_type": "stream",
     "text": [
      "Camera found at index 0\n"
     ]
    }
   ],
   "source": [
    "import cv2\n",
    "\n",
    "def find_camera_index():\n",
    "    num_cameras = 2  # Maximum number of cameras to check\n",
    "    for i in range(num_cameras):\n",
    "        cap = cv2.VideoCapture(i)\n",
    "        if not cap.read()[0]:\n",
    "            cap.release()\n",
    "        else:\n",
    "            print(f\"Camera found at index {i}\")\n",
    "            cap.release()\n",
    "            return i\n",
    "    print(\"No camera found\")\n",
    "    return None\n",
    "\n",
    "camera_index = find_camera_index()"
   ]
  }
 ],
 "metadata": {
  "kernelspec": {
   "display_name": "Python 3",
   "language": "python",
   "name": "python3"
  },
  "language_info": {
   "codemirror_mode": {
    "name": "ipython",
    "version": 2
   },
   "file_extension": ".py",
   "mimetype": "text/x-python",
   "name": "python",
   "nbconvert_exporter": "python",
   "pygments_lexer": "ipython2",
   "version": "2.7.6"
  }
 },
 "nbformat": 4,
 "nbformat_minor": 5
}
